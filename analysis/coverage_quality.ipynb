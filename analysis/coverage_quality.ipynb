{
 "cells": [
  {
   "cell_type": "code",
   "execution_count": 3,
   "metadata": {},
   "outputs": [],
   "source": [
    "import csv\n",
    "import matplotlib.pyplot as plt"
   ]
  },
  {
   "cell_type": "code",
   "execution_count": 6,
   "metadata": {},
   "outputs": [],
   "source": [
    "turning_points_location = '../build/turning_points.csv'\n",
    "total_dist = 0\n",
    "arcs = []\n",
    "first = True\n",
    "with open(turning_points_location) as csvFile:\n",
    "    reader = csv.reader(csvFile, delimiter=',')\n",
    "    next(reader)\n",
    "    for row in reader:\n",
    "        turning_point = float(row[4])\n",
    "        dist = float(row[5]) / 1000.0\n",
    "        total_dist += dist\n",
    "        arcs.append([turning_point, dist])"
   ]
  },
  {
   "cell_type": "code",
   "execution_count": 7,
   "metadata": {},
   "outputs": [],
   "source": [
    "def covered_arc_dist(k):\n",
    "    dist = 0\n",
    "    for arc in arcs:\n",
    "        if arc[0] >= k:\n",
    "            dist += arc[1]\n",
    "    return (total_dist - dist) / total_dist"
   ]
  },
  {
   "cell_type": "code",
   "execution_count": 8,
   "metadata": {},
   "outputs": [],
   "source": [
    "def coverage_quality(min_k, max_k):\n",
    "    steps = 100\n",
    "    x = []\n",
    "    y = []\n",
    "    for i in range(0,steps+1):\n",
    "        k = i*((max_k-min_k)/steps) + min_k\n",
    "        x.append(k)\n",
    "        y.append(covered_arc_dist(k*1000))\n",
    "    plt.plot(x,y)\n",
    "    plt.xlabel('k')\n",
    "    plt.ylabel('coverage')\n",
    "    plt.show()"
   ]
  },
  {
   "cell_type": "code",
   "execution_count": 9,
   "metadata": {},
   "outputs": [
    {
     "data": {
      "image/png": "[encoded data removed]",
      "text/plain": [
       "<Figure size 432x288 with 1 Axes>"
      ]
     },
     "metadata": {
      "needs_background": "light"
     },
     "output_type": "display_data"
    }
   ],
   "source": [
    "coverage_quality(150,250)"
   ]
  }
 ],
 "metadata": {
  "kernelspec": {
   "display_name": "Python 3.8.10 64-bit",
   "language": "python",
   "name": "python3"
  },
  "language_info": {
   "codemirror_mode": {
    "name": "ipython",
    "version": 3
   },
   "file_extension": ".py",
   "mimetype": "text/x-python",
   "name": "python",
   "nbconvert_exporter": "python",
   "pygments_lexer": "ipython3",
   "version": "3.8.10"
  },
  "orig_nbformat": 4,
  "vscode": {
   "interpreter": {
    "hash": "916dbcbb3f70747c44a77c7bcd40155683ae19c65e1c03b4aa3499c5328201f1"
   }
  }
 },
 "nbformat": 4,
 "nbformat_minor": 2
}
